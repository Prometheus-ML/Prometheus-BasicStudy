{
 "cells": [
  {
   "cell_type": "markdown",
   "metadata": {},
   "source": [
    "# 과제"
   ]
  },
  {
   "cell_type": "markdown",
   "metadata": {},
   "source": [
    "### Problem 1\n",
    "\n",
    "numpy를 활용해 어떤 행렬이 singular matrix인지 확인하는 함수를 작성하세요.\n",
    "\n",
    "(* singular matrix : 역행렬이 존재하지 않은 행렬)\n",
    "\n",
    "- 매개변수 : 2차원 벡터(np.array)\n",
    "- 반환값 : 인자로 주어진 벡터가 singular하면 True, non-singular하면 False를 반환"
   ]
  },
  {
   "cell_type": "code",
   "execution_count": 2,
   "metadata": {},
   "outputs": [],
   "source": [
    "import numpy as np\n",
    "\n",
    "# 내부 코드는 오로지 한 줄이어야 합니다.\n",
    "# Hint: 역행렬의 존재 조건을 고민해보세요.\n",
    "\n",
    "def p1(x):\n",
    "    return np.linalg.det(x) == 0"
   ]
  },
  {
   "cell_type": "code",
   "execution_count": 3,
   "metadata": {},
   "outputs": [
    {
     "name": "stdout",
     "output_type": "stream",
     "text": [
      "your answer: (True, False)\n",
      "correct\n"
     ]
    }
   ],
   "source": [
    "ex_1 = np.array([[1,4],[2,8]])\n",
    "ex_2 = np.array([[2,3],[3,4]])\n",
    "\n",
    "answer = (True, False)\n",
    "your_work = (p1(ex_1), p1(ex_2))\n",
    "\n",
    "print(\"your answer:\", your_work)\n",
    "print(\"correct\" if answer is not None and answer == your_work else \"wrong\")"
   ]
  },
  {
   "cell_type": "markdown",
   "metadata": {},
   "source": [
    "### Problem 2"
   ]
  },
  {
   "cell_type": "markdown",
   "metadata": {},
   "source": [
    "numpy를 활용해 어떤 벡터가 주어졌을 때 L2 norm을 구하는 함수를 작성하세요.\n",
    "\n",
    "- 매개변수 : 1차원 벡터 (np.array)\n",
    "- 반환값 : 인자로 주어진 벡터의 L2 Norm값 (number)"
   ]
  },
  {
   "cell_type": "code",
   "execution_count": 4,
   "metadata": {},
   "outputs": [],
   "source": [
    "import numpy as np\n",
    "\n",
    "# 내부 코드는 두 줄이어야 합니다.\n",
    "\n",
    "def p2(x):\n",
    "    return np.linalg.norm(x, ord=2)\n",
    "\n",
    "def p2_1(x, n):\n",
    "    return np.sum(x**n)**(1/n).real"
   ]
  },
  {
   "cell_type": "code",
   "execution_count": 5,
   "metadata": {},
   "outputs": [
    {
     "name": "stdout",
     "output_type": "stream",
     "text": [
      "your answer: (10.56083522339094, 6.162277660168379)\n",
      "correct\n"
     ]
    }
   ],
   "source": [
    "ex_1 = np.array([[1,4,5],[2,8,3]])\n",
    "ex_2 = np.array([[2,3],[3,4]])\n",
    "\n",
    "answer = (10.560835223390939, 6.162277660168379)\n",
    "your_work = (p2(ex_1), p2(ex_2))\n",
    "\n",
    "print(\"your answer:\", your_work)\n",
    "print(\"correct\" if np.isclose(answer, your_work).all() else \"wrong\")    # ERROR-FIX"
   ]
  },
  {
   "cell_type": "markdown",
   "metadata": {},
   "source": [
    "<details>\n",
    "<summary><strong>기존에 제공된 채점방식으로 wrong이 나오는 이슈</strong></summary>\n",
    "\n",
    "\n",
    "시스템에 따라 python의 floating-point precision이 다르므로, 제공되는 결과(answer)와 본인의 결과가 정확히 일치하지 않을 수 있습니다. 이 경우에는 wrong이 나오지만, 실제로는 정답입니다. <br>\n",
    "따라서, 이러한 precision 문제를 회피하기 위해 numpy에서는 `isclose`라는 함수를 제공합니다. <br>\n",
    "`isclose` 함수는 두 개의 숫자를 비교하여, 두 숫자가 일정한 오차범위 내에 있으면 True를 반환합니다. <br>\n",
    "예를 들어, `isclose(1.0, 1.0000000000000001)`은 True를 반환합니다. <br>\n",
    "따라서, 채점 코드를 위와 같이 `print(\"correct\" if np.isclose(answer, your_work).all() else \"wrong\")` 로 바꿔주세요! <br>\n",
    "\n",
    "\n",
    "</details>\n"
   ]
  },
  {
   "cell_type": "markdown",
   "metadata": {},
   "source": [
    "### Problem 3\n",
    "\n",
    "(wk1 과제 2번 문항에서 풀었던 문항과 동일합니다.)\n",
    "\n",
    "one-hot encoding이란 인덱스의 집합이 주어졌을 때, 해당 인덱스에만 1을 부여하고 나머지 인덱스에는 0을 부여하여 데이터를 표현하는 방식입니다.\n",
    "\n",
    "예를 들어, 주어진 인덱스의 집합이 [3, 0, 2, 1] 이라면 해당 집합을 다음과 같은 2차원 행렬로 표현할 수 있습니다.\n",
    "\n",
    "\\begin{matrix}\n",
    "0 & 0 & 0 & 1 \\\\\n",
    "1 & 0 & 0 & 0 \\\\\n",
    "0 & 0 & 1 & 0 \\\\\n",
    "0 & 1 & 0 & 0\n",
    "\\end{matrix}\n",
    "\n",
    "크기 N의 정수 리스트가 주어집니다. 인덱스는 음수가 될 수 없기 때문에 음수 데이터를 삭제 한 이후, one-hot encoding이 되어있는 2차원 리스트를 구하세요.\n",
    "\n",
    "주어지는 리스트는 0 이상의 정수가 적어도 하나 존재함이 보장됩니다.\n",
    "\n",
    "단, 함수 내부 코드는 최대 **9 줄**이어야 하며 **numpy를 활용**해야 합니다."
   ]
  },
  {
   "cell_type": "code",
   "execution_count": 14,
   "metadata": {},
   "outputs": [],
   "source": [
    "import numpy as np\n",
    "\n",
    "# 내부 코드는 오로지 최대 9 줄이어야 합니다.\n",
    "# Hint: 0을 만드는 행렬을 중심으로 조건을 바꿔보세요.\n",
    "\n",
    "def p3(arr):\n",
    "    arr = np.array(arr)\n",
    "    arr = arr[arr>=0]   # list-comprehension을 사용하지 않고, numpy만 이용해 더 빠릅니다.\n",
    "    encoded = np.zeros((arr.shape[0], arr.max()+1))\n",
    "    encoded[np.arange(arr.shape[0]), arr] = 1\n",
    "    return encoded"
   ]
  },
  {
   "cell_type": "code",
   "execution_count": null,
   "metadata": {},
   "outputs": [],
   "source": [
    "example = [5,1,0,-3,1,0,-2,4]\n",
    "answer = [\n",
    "    [0, 0, 0, 0, 0, 1],\n",
    "    [0, 1, 0, 0, 0, 0],\n",
    "    [1, 0, 0, 0, 0, 0],\n",
    "    [0, 1, 0, 0, 0, 0],\n",
    "    [1, 0, 0, 0, 0, 0],\n",
    "    [0, 0, 0, 0, 1, 0]]\n",
    "your_work = p3(example)\n",
    "\n",
    "print(\"your answer:\", your_work)\n",
    "print(\"correct\" if np.equal(answer, your_work).all() else \"wrong\")"
   ]
  },
  {
   "cell_type": "markdown",
   "metadata": {},
   "source": [
    "<details>\n",
    "<summary><strong>기존에 제공된 채점방식에서 error가 발생하는 이슈</strong></summary>\n",
    "\n",
    "\n",
    "만약 your_work가 numpy.ndarray라면 비교 연산은 element-wise로 이루어집니다. <br>\n",
    "\n",
    "**ex)** <br>\n",
    "```python\n",
    "x = np.array([1, 2, 3])\n",
    "y = np.array([1, 2, 3])\n",
    "print(x == y) # [True, True, True]\n",
    "\n",
    "if x == y: # error\n",
    "    print(\"correct\")\n",
    "else:\n",
    "    print(\"wrong\")\n",
    "\n",
    "if (x == y).all(): # correct\n",
    "    print(\"correct\")\n",
    "else:\n",
    "    print(\"wrong\")\n",
    "```\n",
    "\n",
    "따라서, 채점 코드를 위와 같이 `print(\"correct\" if (answer == your_work).all() else \"wrong\")` 로 바꿔주세요! <br>\n",
    "</details>\n"
   ]
  },
  {
   "cell_type": "markdown",
   "metadata": {
    "dc": {
     "key": "4"
    },
    "deletable": false,
    "editable": false,
    "run_control": {
     "frozen": true
    },
    "tags": [
     "context"
    ]
   },
   "source": [
    "### Problem 4\n",
    "\n",
    "1.\n",
    "2011년부터 2020년까지의 평균 영화 러닝타임은 각각 103, 101, 99, 100, 100, 95, 95, 96, 93, 90입니다.\n",
    "\n",
    "연도와 러닝타임을 각각 List로 만들고, 이 리스트들을 활용해 movie_df DataFrame을 만드세요."
   ]
  },
  {
   "cell_type": "code",
   "execution_count": 17,
   "metadata": {},
   "outputs": [
    {
     "data": {
      "text/html": [
       "<div>\n",
       "<style scoped>\n",
       "    .dataframe tbody tr th:only-of-type {\n",
       "        vertical-align: middle;\n",
       "    }\n",
       "\n",
       "    .dataframe tbody tr th {\n",
       "        vertical-align: top;\n",
       "    }\n",
       "\n",
       "    .dataframe thead th {\n",
       "        text-align: right;\n",
       "    }\n",
       "</style>\n",
       "<table border=\"1\" class=\"dataframe\">\n",
       "  <thead>\n",
       "    <tr style=\"text-align: right;\">\n",
       "      <th></th>\n",
       "      <th>years</th>\n",
       "      <th>durations</th>\n",
       "    </tr>\n",
       "  </thead>\n",
       "  <tbody>\n",
       "    <tr>\n",
       "      <th>0</th>\n",
       "      <td>2011</td>\n",
       "      <td>103</td>\n",
       "    </tr>\n",
       "    <tr>\n",
       "      <th>1</th>\n",
       "      <td>2012</td>\n",
       "      <td>101</td>\n",
       "    </tr>\n",
       "    <tr>\n",
       "      <th>2</th>\n",
       "      <td>2013</td>\n",
       "      <td>99</td>\n",
       "    </tr>\n",
       "    <tr>\n",
       "      <th>3</th>\n",
       "      <td>2014</td>\n",
       "      <td>100</td>\n",
       "    </tr>\n",
       "    <tr>\n",
       "      <th>4</th>\n",
       "      <td>2015</td>\n",
       "      <td>100</td>\n",
       "    </tr>\n",
       "    <tr>\n",
       "      <th>5</th>\n",
       "      <td>2016</td>\n",
       "      <td>95</td>\n",
       "    </tr>\n",
       "    <tr>\n",
       "      <th>6</th>\n",
       "      <td>2017</td>\n",
       "      <td>95</td>\n",
       "    </tr>\n",
       "    <tr>\n",
       "      <th>7</th>\n",
       "      <td>2018</td>\n",
       "      <td>96</td>\n",
       "    </tr>\n",
       "    <tr>\n",
       "      <th>8</th>\n",
       "      <td>2019</td>\n",
       "      <td>93</td>\n",
       "    </tr>\n",
       "    <tr>\n",
       "      <th>9</th>\n",
       "      <td>2020</td>\n",
       "      <td>90</td>\n",
       "    </tr>\n",
       "  </tbody>\n",
       "</table>\n",
       "</div>"
      ],
      "text/plain": [
       "   years  durations\n",
       "0   2011        103\n",
       "1   2012        101\n",
       "2   2013         99\n",
       "3   2014        100\n",
       "4   2015        100\n",
       "5   2016         95\n",
       "6   2017         95\n",
       "7   2018         96\n",
       "8   2019         93\n",
       "9   2020         90"
      ]
     },
     "execution_count": 17,
     "metadata": {},
     "output_type": "execute_result"
    }
   ],
   "source": [
    "import pandas as pd\n",
    "\n",
    "# (1) 연도와 러닝타임 list 만들기\n",
    "# 연도 리스트는 for문을 활용해 만드세요.(내부 코드는 오로지 한 줄이어야 합니다.)\n",
    "p3_years = list(range(2011, 2021))\n",
    "p3_durations = [103, 101, 99, 100, 100, 95, 95, 96, 93, 90]\n",
    "\n",
    "# (2) 각 리스트의 같은 인덱스끼리 같은 열에 취급하는 DataFrame 만들기\n",
    "# 코드는 오로지 한 줄이어야 합니다.\n",
    "# Hint1: 지난 시간에 배운 generator를 활용해보세요.\n",
    "# Hint2: 열 이름을 지정하기 위해 columns=[\"years\", \"durations\"] 활용해보세요.\n",
    "\n",
    "# ======= A1 =======\n",
    "movie_df = pd.DataFrame(zip(p3_years, p3_durations), columns=[\"years\", \"durations\"])\n",
    "(a,b)\n",
    "(c,b)\n",
    "(e,f)\n",
    "# ======= A2 =======\n",
    "movie_df = pd.DataFrame({\"years\": p3_years, \"durations\": p3_durations})\n",
    "\n",
    "movie_df"
   ]
  },
  {
   "cell_type": "markdown",
   "metadata": {},
   "source": [
    "2.\n",
    "movie_df를 matploblib을 활용해 years와 durations의 관계를 나타내는 Line plot을 그리세요.\n",
    "\n",
    "제목은 \"Average Movie Durations 2011-2020\"으로 설정하세요."
   ]
  },
  {
   "cell_type": "code",
   "execution_count": 30,
   "metadata": {},
   "outputs": [
    {
     "data": {
      "text/plain": [
       "<AxesSubplot:xlabel='years'>"
      ]
     },
     "execution_count": 30,
     "metadata": {},
     "output_type": "execute_result"
    },
    {
     "data": {
      "image/png": "[encoded data removed]",
      "text/plain": [
       "<Figure size 1000x600 with 1 Axes>"
      ]
     },
     "metadata": {
      "needs_background": "light"
     },
     "output_type": "display_data"
    }
   ],
   "source": [
    "import matplotlib.pyplot as plt\n",
    "import matplotlib\n",
    "\n",
    "matplotlib.rcParams[\"figure.figsize\"] = (10, 6)\n",
    "matplotlib.rcParams[\"figure.dpi\"] = 100\n",
    "matplotlib.rcParams[\"font.size\"] = 12\n",
    "\n",
    "# matplotlib을 활용해 years와 durations의 관계를 나타내는 line plot 그리기\n",
    "# 코드는 오로지 한 줄이어야 합니다.\n",
    "# Hint: fig에 객체에 그래프를 저장해보세요.\n",
    "\n",
    "# # ======= A1 =======\n",
    "movie_df.plot(x=\"years\", y=\"durations\", kind=\"line\")"
   ]
  },
  {
   "cell_type": "code",
   "execution_count": 31,
   "metadata": {},
   "outputs": [
    {
     "data": {
      "image/png": "[encoded data removed]",
      "text/plain": [
       "<Figure size 1000x600 with 1 Axes>"
      ]
     },
     "metadata": {
      "needs_background": "light"
     },
     "output_type": "display_data"
    }
   ],
   "source": [
    "# # ======= A2 =======\n",
    "plt.plot(movie_df[\"years\"], movie_df[\"durations\"])\n",
    "plt.xlabel(\"years\")\n",
    "plt.ylabel(\"durations\")\n",
    "plt.show()"
   ]
  },
  {
   "cell_type": "code",
   "execution_count": 32,
   "metadata": {},
   "outputs": [
    {
     "data": {
      "text/plain": [
       "<AxesSubplot:xlabel='years', ylabel='durations'>"
      ]
     },
     "execution_count": 32,
     "metadata": {},
     "output_type": "execute_result"
    },
    {
     "data": {
      "image/png": "[encoded data removed]",
      "text/plain": [
       "<Figure size 1000x600 with 1 Axes>"
      ]
     },
     "metadata": {
      "needs_background": "light"
     },
     "output_type": "display_data"
    }
   ],
   "source": [
    "# ======= A3 =======\n",
    "import seaborn as sns\n",
    "sns.lineplot(x=\"years\", y=\"durations\", data=movie_df)"
   ]
  },
  {
   "cell_type": "markdown",
   "metadata": {
    "dc": {
     "key": "25"
    },
    "deletable": false,
    "editable": false,
    "run_control": {
     "frozen": true
    },
    "tags": [
     "context"
    ]
   },
   "source": [
    "### Problem 5\n",
    "\n",
    "1.\n",
    "pandas 라이브러리를 활용해 <code>\"datasets/netflix_data.csv\"</code>을 불러 netflix_df에 DataFrame 형식으로 지정하고, 10번째 열까지 출력합니다."
   ]
  },
  {
   "cell_type": "code",
   "execution_count": 9,
   "metadata": {},
   "outputs": [
    {
     "data": {
      "text/html": [
       "<div>\n",
       "<style scoped>\n",
       "    .dataframe tbody tr th:only-of-type {\n",
       "        vertical-align: middle;\n",
       "    }\n",
       "\n",
       "    .dataframe tbody tr th {\n",
       "        vertical-align: top;\n",
       "    }\n",
       "\n",
       "    .dataframe thead th {\n",
       "        text-align: right;\n",
       "    }\n",
       "</style>\n",
       "<table border=\"1\" class=\"dataframe\">\n",
       "  <thead>\n",
       "    <tr style=\"text-align: right;\">\n",
       "      <th></th>\n",
       "      <th>type</th>\n",
       "      <th>title</th>\n",
       "      <th>director</th>\n",
       "      <th>cast</th>\n",
       "      <th>country</th>\n",
       "      <th>date_added</th>\n",
       "      <th>release_year</th>\n",
       "      <th>duration</th>\n",
       "      <th>description</th>\n",
       "      <th>genre</th>\n",
       "    </tr>\n",
       "    <tr>\n",
       "      <th>show_id</th>\n",
       "      <th></th>\n",
       "      <th></th>\n",
       "      <th></th>\n",
       "      <th></th>\n",
       "      <th></th>\n",
       "      <th></th>\n",
       "      <th></th>\n",
       "      <th></th>\n",
       "      <th></th>\n",
       "      <th></th>\n",
       "    </tr>\n",
       "  </thead>\n",
       "  <tbody>\n",
       "    <tr>\n",
       "      <th>s7778</th>\n",
       "      <td>TV Show</td>\n",
       "      <td>Zombie Dumb</td>\n",
       "      <td>NaN</td>\n",
       "      <td>NaN</td>\n",
       "      <td>NaN</td>\n",
       "      <td>July 1, 2019</td>\n",
       "      <td>2018</td>\n",
       "      <td>2</td>\n",
       "      <td>While living alone in a spooky town, a young g...</td>\n",
       "      <td>Kids</td>\n",
       "    </tr>\n",
       "    <tr>\n",
       "      <th>s7779</th>\n",
       "      <td>Movie</td>\n",
       "      <td>Zombieland</td>\n",
       "      <td>Ruben Fleischer</td>\n",
       "      <td>Jesse Eisenberg, Woody Harrelson, Emma Stone, ...</td>\n",
       "      <td>United States</td>\n",
       "      <td>November 1, 2019</td>\n",
       "      <td>2009</td>\n",
       "      <td>88</td>\n",
       "      <td>Looking to survive in a world taken over by zo...</td>\n",
       "      <td>Comedies</td>\n",
       "    </tr>\n",
       "    <tr>\n",
       "      <th>s7780</th>\n",
       "      <td>TV Show</td>\n",
       "      <td>Zona Rosa</td>\n",
       "      <td>NaN</td>\n",
       "      <td>Manu NNa, Ana Julia Yeyé, Ray Contreras, Pablo...</td>\n",
       "      <td>Mexico</td>\n",
       "      <td>November 26, 2019</td>\n",
       "      <td>2019</td>\n",
       "      <td>1</td>\n",
       "      <td>An assortment of talent takes the stage for a ...</td>\n",
       "      <td>International TV</td>\n",
       "    </tr>\n",
       "    <tr>\n",
       "      <th>s7781</th>\n",
       "      <td>Movie</td>\n",
       "      <td>Zoo</td>\n",
       "      <td>Shlok Sharma</td>\n",
       "      <td>Shashank Arora, Shweta Tripathi, Rahul Kumar, ...</td>\n",
       "      <td>India</td>\n",
       "      <td>July 1, 2018</td>\n",
       "      <td>2018</td>\n",
       "      <td>94</td>\n",
       "      <td>A drug dealer starts having doubts about his t...</td>\n",
       "      <td>Dramas</td>\n",
       "    </tr>\n",
       "    <tr>\n",
       "      <th>s7782</th>\n",
       "      <td>Movie</td>\n",
       "      <td>Zoom</td>\n",
       "      <td>Peter Hewitt</td>\n",
       "      <td>Tim Allen, Courteney Cox, Chevy Chase, Kate Ma...</td>\n",
       "      <td>United States</td>\n",
       "      <td>January 11, 2020</td>\n",
       "      <td>2006</td>\n",
       "      <td>88</td>\n",
       "      <td>Dragged from civilian life, a former superhero...</td>\n",
       "      <td>Children</td>\n",
       "    </tr>\n",
       "    <tr>\n",
       "      <th>s7783</th>\n",
       "      <td>Movie</td>\n",
       "      <td>Zozo</td>\n",
       "      <td>Josef Fares</td>\n",
       "      <td>Imad Creidi, Antoinette Turk, Elias Gergi, Car...</td>\n",
       "      <td>Sweden</td>\n",
       "      <td>October 19, 2020</td>\n",
       "      <td>2005</td>\n",
       "      <td>99</td>\n",
       "      <td>When Lebanon's Civil War deprives Zozo of his ...</td>\n",
       "      <td>Dramas</td>\n",
       "    </tr>\n",
       "    <tr>\n",
       "      <th>s7784</th>\n",
       "      <td>Movie</td>\n",
       "      <td>Zubaan</td>\n",
       "      <td>Mozez Singh</td>\n",
       "      <td>Vicky Kaushal, Sarah-Jane Dias, Raaghav Chanan...</td>\n",
       "      <td>India</td>\n",
       "      <td>March 2, 2019</td>\n",
       "      <td>2015</td>\n",
       "      <td>111</td>\n",
       "      <td>A scrappy but poor boy worms his way into a ty...</td>\n",
       "      <td>Dramas</td>\n",
       "    </tr>\n",
       "    <tr>\n",
       "      <th>s7785</th>\n",
       "      <td>Movie</td>\n",
       "      <td>Zulu Man in Japan</td>\n",
       "      <td>NaN</td>\n",
       "      <td>Nasty C</td>\n",
       "      <td>NaN</td>\n",
       "      <td>September 25, 2020</td>\n",
       "      <td>2019</td>\n",
       "      <td>44</td>\n",
       "      <td>In this documentary, South African rapper Nast...</td>\n",
       "      <td>Documentaries</td>\n",
       "    </tr>\n",
       "    <tr>\n",
       "      <th>s7786</th>\n",
       "      <td>TV Show</td>\n",
       "      <td>Zumbo's Just Desserts</td>\n",
       "      <td>NaN</td>\n",
       "      <td>Adriano Zumbo, Rachel Khoo</td>\n",
       "      <td>Australia</td>\n",
       "      <td>October 31, 2020</td>\n",
       "      <td>2019</td>\n",
       "      <td>1</td>\n",
       "      <td>Dessert wizard Adriano Zumbo looks for the nex...</td>\n",
       "      <td>International TV</td>\n",
       "    </tr>\n",
       "    <tr>\n",
       "      <th>s7787</th>\n",
       "      <td>Movie</td>\n",
       "      <td>ZZ TOP: THAT LITTLE OL' BAND FROM TEXAS</td>\n",
       "      <td>Sam Dunn</td>\n",
       "      <td>NaN</td>\n",
       "      <td>United Kingdom</td>\n",
       "      <td>March 1, 2020</td>\n",
       "      <td>2019</td>\n",
       "      <td>90</td>\n",
       "      <td>This documentary delves into the mystique behi...</td>\n",
       "      <td>Documentaries</td>\n",
       "    </tr>\n",
       "  </tbody>\n",
       "</table>\n",
       "</div>"
      ],
      "text/plain": [
       "            type                                    title         director  \\\n",
       "show_id                                                                      \n",
       "s7778    TV Show                              Zombie Dumb              NaN   \n",
       "s7779      Movie                               Zombieland  Ruben Fleischer   \n",
       "s7780    TV Show                                Zona Rosa              NaN   \n",
       "s7781      Movie                                      Zoo     Shlok Sharma   \n",
       "s7782      Movie                                     Zoom     Peter Hewitt   \n",
       "s7783      Movie                                     Zozo      Josef Fares   \n",
       "s7784      Movie                                   Zubaan      Mozez Singh   \n",
       "s7785      Movie                        Zulu Man in Japan              NaN   \n",
       "s7786    TV Show                    Zumbo's Just Desserts              NaN   \n",
       "s7787      Movie  ZZ TOP: THAT LITTLE OL' BAND FROM TEXAS         Sam Dunn   \n",
       "\n",
       "                                                      cast         country  \\\n",
       "show_id                                                                      \n",
       "s7778                                                  NaN             NaN   \n",
       "s7779    Jesse Eisenberg, Woody Harrelson, Emma Stone, ...   United States   \n",
       "s7780    Manu NNa, Ana Julia Yeyé, Ray Contreras, Pablo...          Mexico   \n",
       "s7781    Shashank Arora, Shweta Tripathi, Rahul Kumar, ...           India   \n",
       "s7782    Tim Allen, Courteney Cox, Chevy Chase, Kate Ma...   United States   \n",
       "s7783    Imad Creidi, Antoinette Turk, Elias Gergi, Car...          Sweden   \n",
       "s7784    Vicky Kaushal, Sarah-Jane Dias, Raaghav Chanan...           India   \n",
       "s7785                                              Nasty C             NaN   \n",
       "s7786                           Adriano Zumbo, Rachel Khoo       Australia   \n",
       "s7787                                                  NaN  United Kingdom   \n",
       "\n",
       "                 date_added  release_year  duration  \\\n",
       "show_id                                               \n",
       "s7778          July 1, 2019          2018         2   \n",
       "s7779      November 1, 2019          2009        88   \n",
       "s7780     November 26, 2019          2019         1   \n",
       "s7781          July 1, 2018          2018        94   \n",
       "s7782      January 11, 2020          2006        88   \n",
       "s7783      October 19, 2020          2005        99   \n",
       "s7784         March 2, 2019          2015       111   \n",
       "s7785    September 25, 2020          2019        44   \n",
       "s7786      October 31, 2020          2019         1   \n",
       "s7787         March 1, 2020          2019        90   \n",
       "\n",
       "                                               description             genre  \n",
       "show_id                                                                       \n",
       "s7778    While living alone in a spooky town, a young g...              Kids  \n",
       "s7779    Looking to survive in a world taken over by zo...          Comedies  \n",
       "s7780    An assortment of talent takes the stage for a ...  International TV  \n",
       "s7781    A drug dealer starts having doubts about his t...            Dramas  \n",
       "s7782    Dragged from civilian life, a former superhero...          Children  \n",
       "s7783    When Lebanon's Civil War deprives Zozo of his ...            Dramas  \n",
       "s7784    A scrappy but poor boy worms his way into a ty...            Dramas  \n",
       "s7785    In this documentary, South African rapper Nast...     Documentaries  \n",
       "s7786    Dessert wizard Adriano Zumbo looks for the nex...  International TV  \n",
       "s7787    This documentary delves into the mystique behi...     Documentaries  "
      ]
     },
     "execution_count": 9,
     "metadata": {},
     "output_type": "execute_result"
    }
   ],
   "source": [
    "import pandas as pd\n",
    "\n",
    "# (1) pandas를 활용해 csv를 불러오기\n",
    "# 코드는 오로지 한 줄이어야 합니다.\n",
    "netflix_df = pd.read_csv(\"datasets/netflix_data.csv\", index_col=0, encoding=\"utf-8\", sep=\",\",\n",
    "                         encoding_errors='ignore')\n",
    "\n",
    "# (2) netflix_df의 10번째 열까지 출력하기\n",
    "# 코드는 오로지 한 줄이어야 합니다.\n",
    "\n",
    "netflix_df.head(10)   # 위에서 10개\n",
    "netflix_df.tail(10)   # 아래서 10개\n",
    "netflix_df.sample(10) # 랜덤으로 10개"
   ]
  },
  {
   "cell_type": "code",
   "execution_count": 10,
   "metadata": {},
   "outputs": [
    {
     "name": "stdout",
     "output_type": "stream",
     "text": [
      "<class 'pandas.core.frame.DataFrame'>\n",
      "Index: 7787 entries, s1 to s7787\n",
      "Data columns (total 10 columns):\n",
      " #   Column        Non-Null Count  Dtype \n",
      "---  ------        --------------  ----- \n",
      " 0   type          7787 non-null   object\n",
      " 1   title         7787 non-null   object\n",
      " 2   director      5398 non-null   object\n",
      " 3   cast          7069 non-null   object\n",
      " 4   country       7280 non-null   object\n",
      " 5   date_added    7777 non-null   object\n",
      " 6   release_year  7787 non-null   int64 \n",
      " 7   duration      7787 non-null   int64 \n",
      " 8   description   7787 non-null   object\n",
      " 9   genre         7787 non-null   object\n",
      "dtypes: int64(2), object(8)\n",
      "memory usage: 669.2+ KB\n"
     ]
    }
   ],
   "source": [
    "# netflix_df의 각 열의 non-null 데이터 수, 데이터 타입, 메모리 사용량 등을 알 수 있습니다.\n",
    "# 잘 보니 총 7787개의 record가 있는데 director는 5400개 정도만 존재하네요.\n",
    "netflix_df.info()"
   ]
  },
  {
   "cell_type": "markdown",
   "metadata": {
    "dc": {
     "key": "32"
    },
    "deletable": false,
    "editable": false,
    "run_control": {
     "frozen": true
    },
    "tags": [
     "context"
    ]
   },
   "source": [
    "2.\n",
    "netflix_df에서 'type' 중에 'Movie'가 아닌 데이터가 있음을 확인할 수 있습니다. 위 DataFrame에서 'type'이 'Movie'면서 'genre'가 'Comedies', 'Dramas', 'Action', 'Horror Movies'인 데이터만 필터링해 분석하려고 합니다. 이를 새로운 DataFrame을 netflix_movies_genre_subset에 지정해보세요."
   ]
  },
  {
   "cell_type": "code",
   "execution_count": 11,
   "metadata": {},
   "outputs": [
    {
     "name": "stdout",
     "output_type": "stream",
     "text": [
      "['TV Show' 'Movie']\n",
      "['International TV' 'Dramas' 'Horror Movies' 'Action' 'Crime TV'\n",
      " 'Documentaries' 'Independent Movies' 'Comedies' 'Sports Movies'\n",
      " 'Anime Series' 'Reality TV' 'TV Comedies' 'Docuseries' 'Uncategorized'\n",
      " 'British TV' 'International Movies' 'Sci-Fi' 'Kids' 'Children' 'TV Shows'\n",
      " 'Classic Movies' 'Thrillers' 'Stand-Up' 'Anime Features' 'Music'\n",
      " 'TV Dramas' 'TV Horror' 'TV Action' 'Classic' 'Romantic TV' 'Cult Movies'\n",
      " 'TV Sci' 'Romantic Movies' 'Spanish-Language' 'LGBTQ Movies']\n"
     ]
    }
   ],
   "source": [
    "# netflix_df의 type, gener 열이 무슨 값들을 가지고 있는지 확인할 수 있습니다.\n",
    "print(netflix_df[\"type\"].unique())\n",
    "print(netflix_df[\"genre\"].unique())"
   ]
  },
  {
   "cell_type": "code",
   "execution_count": 12,
   "metadata": {},
   "outputs": [
    {
     "data": {
      "text/html": [
       "<div>\n",
       "<style scoped>\n",
       "    .dataframe tbody tr th:only-of-type {\n",
       "        vertical-align: middle;\n",
       "    }\n",
       "\n",
       "    .dataframe tbody tr th {\n",
       "        vertical-align: top;\n",
       "    }\n",
       "\n",
       "    .dataframe thead th {\n",
       "        text-align: right;\n",
       "    }\n",
       "</style>\n",
       "<table border=\"1\" class=\"dataframe\">\n",
       "  <thead>\n",
       "    <tr style=\"text-align: right;\">\n",
       "      <th></th>\n",
       "      <th>type</th>\n",
       "      <th>title</th>\n",
       "      <th>director</th>\n",
       "      <th>cast</th>\n",
       "      <th>country</th>\n",
       "      <th>date_added</th>\n",
       "      <th>release_year</th>\n",
       "      <th>duration</th>\n",
       "      <th>description</th>\n",
       "      <th>genre</th>\n",
       "    </tr>\n",
       "    <tr>\n",
       "      <th>show_id</th>\n",
       "      <th></th>\n",
       "      <th></th>\n",
       "      <th></th>\n",
       "      <th></th>\n",
       "      <th></th>\n",
       "      <th></th>\n",
       "      <th></th>\n",
       "      <th></th>\n",
       "      <th></th>\n",
       "      <th></th>\n",
       "    </tr>\n",
       "  </thead>\n",
       "  <tbody>\n",
       "    <tr>\n",
       "      <th>s2</th>\n",
       "      <td>Movie</td>\n",
       "      <td>7:19</td>\n",
       "      <td>Jorge Michel Grau</td>\n",
       "      <td>Demián Bichir, Héctor Bonilla, Oscar Serrano, ...</td>\n",
       "      <td>Mexico</td>\n",
       "      <td>December 23, 2016</td>\n",
       "      <td>2016</td>\n",
       "      <td>93</td>\n",
       "      <td>After a devastating earthquake hits Mexico Cit...</td>\n",
       "      <td>Dramas</td>\n",
       "    </tr>\n",
       "    <tr>\n",
       "      <th>s3</th>\n",
       "      <td>Movie</td>\n",
       "      <td>23:59</td>\n",
       "      <td>Gilbert Chan</td>\n",
       "      <td>Tedd Chan, Stella Chung, Henley Hii, Lawrence ...</td>\n",
       "      <td>Singapore</td>\n",
       "      <td>December 20, 2018</td>\n",
       "      <td>2011</td>\n",
       "      <td>78</td>\n",
       "      <td>When an army recruit is found dead, his fellow...</td>\n",
       "      <td>Horror Movies</td>\n",
       "    </tr>\n",
       "    <tr>\n",
       "      <th>s4</th>\n",
       "      <td>Movie</td>\n",
       "      <td>9</td>\n",
       "      <td>Shane Acker</td>\n",
       "      <td>Elijah Wood, John C. Reilly, Jennifer Connelly...</td>\n",
       "      <td>United States</td>\n",
       "      <td>November 16, 2017</td>\n",
       "      <td>2009</td>\n",
       "      <td>80</td>\n",
       "      <td>In a postapocalyptic world, rag-doll robots hi...</td>\n",
       "      <td>Action</td>\n",
       "    </tr>\n",
       "    <tr>\n",
       "      <th>s5</th>\n",
       "      <td>Movie</td>\n",
       "      <td>21</td>\n",
       "      <td>Robert Luketic</td>\n",
       "      <td>Jim Sturgess, Kevin Spacey, Kate Bosworth, Aar...</td>\n",
       "      <td>United States</td>\n",
       "      <td>January 1, 2020</td>\n",
       "      <td>2008</td>\n",
       "      <td>123</td>\n",
       "      <td>A brilliant group of students become card-coun...</td>\n",
       "      <td>Dramas</td>\n",
       "    </tr>\n",
       "    <tr>\n",
       "      <th>s7</th>\n",
       "      <td>Movie</td>\n",
       "      <td>122</td>\n",
       "      <td>Yasir Al Yasiri</td>\n",
       "      <td>Amina Khalil, Ahmed Dawood, Tarek Lotfy, Ahmed...</td>\n",
       "      <td>Egypt</td>\n",
       "      <td>June 1, 2020</td>\n",
       "      <td>2019</td>\n",
       "      <td>95</td>\n",
       "      <td>After an awful accident, a couple admitted to ...</td>\n",
       "      <td>Horror Movies</td>\n",
       "    </tr>\n",
       "    <tr>\n",
       "      <th>s8</th>\n",
       "      <td>Movie</td>\n",
       "      <td>187</td>\n",
       "      <td>Kevin Reynolds</td>\n",
       "      <td>Samuel L. Jackson, John Heard, Kelly Rowan, Cl...</td>\n",
       "      <td>United States</td>\n",
       "      <td>November 1, 2019</td>\n",
       "      <td>1997</td>\n",
       "      <td>119</td>\n",
       "      <td>After one of his high school students attacks ...</td>\n",
       "      <td>Dramas</td>\n",
       "    </tr>\n",
       "    <tr>\n",
       "      <th>s9</th>\n",
       "      <td>Movie</td>\n",
       "      <td>706</td>\n",
       "      <td>Shravan Kumar</td>\n",
       "      <td>Divya Dutta, Atul Kulkarni, Mohan Agashe, Anup...</td>\n",
       "      <td>India</td>\n",
       "      <td>April 1, 2019</td>\n",
       "      <td>2019</td>\n",
       "      <td>118</td>\n",
       "      <td>When a doctor goes missing, his psychiatrist w...</td>\n",
       "      <td>Horror Movies</td>\n",
       "    </tr>\n",
       "    <tr>\n",
       "      <th>s10</th>\n",
       "      <td>Movie</td>\n",
       "      <td>1920</td>\n",
       "      <td>Vikram Bhatt</td>\n",
       "      <td>Rajneesh Duggal, Adah Sharma, Indraneil Sengup...</td>\n",
       "      <td>India</td>\n",
       "      <td>December 15, 2017</td>\n",
       "      <td>2008</td>\n",
       "      <td>143</td>\n",
       "      <td>An architect and his wife move into a castle t...</td>\n",
       "      <td>Horror Movies</td>\n",
       "    </tr>\n",
       "    <tr>\n",
       "      <th>s11</th>\n",
       "      <td>Movie</td>\n",
       "      <td>1922</td>\n",
       "      <td>Zak Hilditch</td>\n",
       "      <td>Thomas Jane, Molly Parker, Dylan Schmid, Kaitl...</td>\n",
       "      <td>United States</td>\n",
       "      <td>October 20, 2017</td>\n",
       "      <td>2017</td>\n",
       "      <td>103</td>\n",
       "      <td>A farmer pens a confession admitting to his wi...</td>\n",
       "      <td>Dramas</td>\n",
       "    </tr>\n",
       "    <tr>\n",
       "      <th>s16</th>\n",
       "      <td>Movie</td>\n",
       "      <td>Oct-01</td>\n",
       "      <td>Kunle Afolayan</td>\n",
       "      <td>Sadiq Daba, David Bailie, Kayode Olaiya, Kehin...</td>\n",
       "      <td>Nigeria</td>\n",
       "      <td>September 1, 2019</td>\n",
       "      <td>2014</td>\n",
       "      <td>149</td>\n",
       "      <td>Against the backdrop of Nigeria's looming inde...</td>\n",
       "      <td>Dramas</td>\n",
       "    </tr>\n",
       "  </tbody>\n",
       "</table>\n",
       "</div>"
      ],
      "text/plain": [
       "          type   title           director  \\\n",
       "show_id                                     \n",
       "s2       Movie    7:19  Jorge Michel Grau   \n",
       "s3       Movie   23:59       Gilbert Chan   \n",
       "s4       Movie       9        Shane Acker   \n",
       "s5       Movie      21     Robert Luketic   \n",
       "s7       Movie     122    Yasir Al Yasiri   \n",
       "s8       Movie     187     Kevin Reynolds   \n",
       "s9       Movie     706      Shravan Kumar   \n",
       "s10      Movie    1920       Vikram Bhatt   \n",
       "s11      Movie    1922       Zak Hilditch   \n",
       "s16      Movie  Oct-01     Kunle Afolayan   \n",
       "\n",
       "                                                      cast        country  \\\n",
       "show_id                                                                     \n",
       "s2       Demián Bichir, Héctor Bonilla, Oscar Serrano, ...         Mexico   \n",
       "s3       Tedd Chan, Stella Chung, Henley Hii, Lawrence ...      Singapore   \n",
       "s4       Elijah Wood, John C. Reilly, Jennifer Connelly...  United States   \n",
       "s5       Jim Sturgess, Kevin Spacey, Kate Bosworth, Aar...  United States   \n",
       "s7       Amina Khalil, Ahmed Dawood, Tarek Lotfy, Ahmed...          Egypt   \n",
       "s8       Samuel L. Jackson, John Heard, Kelly Rowan, Cl...  United States   \n",
       "s9       Divya Dutta, Atul Kulkarni, Mohan Agashe, Anup...          India   \n",
       "s10      Rajneesh Duggal, Adah Sharma, Indraneil Sengup...          India   \n",
       "s11      Thomas Jane, Molly Parker, Dylan Schmid, Kaitl...  United States   \n",
       "s16      Sadiq Daba, David Bailie, Kayode Olaiya, Kehin...        Nigeria   \n",
       "\n",
       "                date_added  release_year  duration  \\\n",
       "show_id                                              \n",
       "s2       December 23, 2016          2016        93   \n",
       "s3       December 20, 2018          2011        78   \n",
       "s4       November 16, 2017          2009        80   \n",
       "s5         January 1, 2020          2008       123   \n",
       "s7            June 1, 2020          2019        95   \n",
       "s8        November 1, 2019          1997       119   \n",
       "s9           April 1, 2019          2019       118   \n",
       "s10      December 15, 2017          2008       143   \n",
       "s11       October 20, 2017          2017       103   \n",
       "s16      September 1, 2019          2014       149   \n",
       "\n",
       "                                               description          genre  \n",
       "show_id                                                                    \n",
       "s2       After a devastating earthquake hits Mexico Cit...         Dramas  \n",
       "s3       When an army recruit is found dead, his fellow...  Horror Movies  \n",
       "s4       In a postapocalyptic world, rag-doll robots hi...         Action  \n",
       "s5       A brilliant group of students become card-coun...         Dramas  \n",
       "s7       After an awful accident, a couple admitted to ...  Horror Movies  \n",
       "s8       After one of his high school students attacks ...         Dramas  \n",
       "s9       When a doctor goes missing, his psychiatrist w...  Horror Movies  \n",
       "s10      An architect and his wife move into a castle t...  Horror Movies  \n",
       "s11      A farmer pens a confession admitting to his wi...         Dramas  \n",
       "s16      Against the backdrop of Nigeria's looming inde...         Dramas  "
      ]
     },
     "execution_count": 12,
     "metadata": {},
     "output_type": "execute_result"
    }
   ],
   "source": [
    "# netflix_df에서 'type'이 'Movie'면서 'genre'가 'Comedies', 'Dramas', 'Action', 'Horror Movies'인 데이터만 필터링하기\n",
    "# 코드는 오로지 한 줄이어야 합니다.\n",
    "netflix_movies_genre_subset = [\"Comedies\", \"Dramas\", \"Action\", \"Horror Movies\"]\n",
    "netflix_movies_genre_df = netflix_df[(netflix_df[\"type\"] == \"Movie\") & (netflix_df[\"genre\"].isin(netflix_movies_genre_subset))]\n",
    "netflix_movies_genre_df.head(10)"
   ]
  },
  {
   "cell_type": "markdown",
   "metadata": {
    "dc": {
     "key": "39"
    },
    "deletable": false,
    "editable": false,
    "run_control": {
     "frozen": true
    },
    "tags": [
     "context"
    ]
   },
   "source": [
    "3.\n",
    "netflix_movies_subset를 matploblib을 활용해 years와 durations의 관계를 나타내는 Scatter plot을 그리세요. \n",
    "\n",
    "- matplotlib이 아니라 seaborn을 활용해 scatter plot을 그리세요.\n",
    "- dot size는 20으로, color는 **카테고리형 데이터** 인 'genre'의 종류 별로 지정하세요.\n",
    "- 제목은 \"Movie Durations by Release Year\"로, xlabel은 \"Release year\"로, ylabel은 \"Duration (min)\"로 설정하세요."
   ]
  },
  {
   "cell_type": "code",
   "execution_count": 15,
   "metadata": {},
   "outputs": [
    {
     "data": {
      "text/plain": [
       "<AxesSubplot:xlabel='release_year', ylabel='duration'>"
      ]
     },
     "execution_count": 15,
     "metadata": {},
     "output_type": "execute_result"
    },
    {
     "data": {
      "image/png": "[encoded data removed]",
      "text/plain": [
       "<Figure size 432x288 with 1 Axes>"
      ]
     },
     "metadata": {
      "needs_background": "light"
     },
     "output_type": "display_data"
    }
   ],
   "source": [
    "import seaborn as sns\n",
    "\n",
    "# seaborn을 활용해 scatterplot을 그리기\n",
    "# 코드는 오로지 한 줄이어야 합니다.\n",
    "# Hint1: 색상은 color가 아니라, 카테고리형 데이터의 종류 별로 나눠주는 변수를 활용해 지정해보세요.\n",
    "# Hint2: 제목이나 라벨은 .set()을 활용해보세요.\n",
    "\n",
    "sns.scatterplot(x=\"release_year\", y=\"duration\", hue=\"genre\", data=netflix_movies_genre_df)"
   ]
  },
  {
   "cell_type": "code",
   "execution_count": null,
   "metadata": {},
   "outputs": [],
   "source": []
  }
 ],
 "metadata": {
  "kernelspec": {
   "display_name": "Python 3.8.5 ('rl')",
   "language": "python",
   "name": "python3"
  },
  "language_info": {
   "codemirror_mode": {
    "name": "ipython",
    "version": 3
   },
   "file_extension": ".py",
   "mimetype": "text/x-python",
   "name": "python",
   "nbconvert_exporter": "python",
   "pygments_lexer": "ipython3",
   "version": "3.8.5"
  },
  "vscode": {
   "interpreter": {
    "hash": "05f4ae5e6e254728897fe6cccc0a28d56b5f38975ca8027bd9d3a6f0559c497d"
   }
  }
 },
 "nbformat": 4,
 "nbformat_minor": 2
}
